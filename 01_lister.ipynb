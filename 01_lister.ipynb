{
 "cells": [
  {
   "metadata": {},
   "cell_type": "markdown",
   "source": "# 01 : lister les photos",
   "id": "9580dc3897599e87"
  },
  {
   "metadata": {},
   "cell_type": "markdown",
   "source": [
    "Travail en batch. Un dossier arrive dans totreat, il est traiter de la manière suivante :\n",
    "- création d'un numéro de batch\n",
    "- séparation en dossier par date\n",
    "- un csv par dossier avec la liste des photos\n",
    "- un json avec les informations sur le batch dans le dossier"
   ],
   "id": "f4c5c499d774813a"
  },
  {
   "cell_type": "code",
   "id": "initial_id",
   "metadata": {
    "collapsed": true,
    "ExecuteTime": {
     "end_time": "2025-01-07T13:06:57.767868Z",
     "start_time": "2025-01-07T13:06:57.765968Z"
    }
   },
   "source": [
    "import os\n",
    "import pandas as pd\n",
    "from exif import Image\n",
    "from datetime import datetime\n",
    "import uuid\n",
    "import shutil"
   ],
   "outputs": [],
   "execution_count": 80
  },
  {
   "metadata": {
    "ExecuteTime": {
     "end_time": "2025-01-07T11:21:51.644025Z",
     "start_time": "2025-01-07T11:21:51.641282Z"
    }
   },
   "cell_type": "code",
   "source": [
    "def list_folders() -> list:\n",
    "\tbase = 'artefacts/totreat'\n",
    "\tdossiers = os.listdir(base)\n",
    "\treturn dossiers"
   ],
   "id": "64c90f92dd20e917",
   "outputs": [],
   "execution_count": 7
  },
  {
   "metadata": {
    "ExecuteTime": {
     "end_time": "2025-01-07T11:22:59.790572Z",
     "start_time": "2025-01-07T11:22:59.788486Z"
    }
   },
   "cell_type": "code",
   "source": [
    "def list_files(folder:str) -> list:\n",
    "\tbase = 'artefacts/totreat'\n",
    "\tfiles = os.listdir(f'{base}/{folder}')\n",
    "\treturn files"
   ],
   "id": "106171e37f847a03",
   "outputs": [],
   "execution_count": 9
  },
  {
   "metadata": {
    "ExecuteTime": {
     "end_time": "2025-01-07T11:44:54.676609Z",
     "start_time": "2025-01-07T11:44:54.674099Z"
    }
   },
   "cell_type": "code",
   "source": [
    "def extract_infos(folder:str, file:str) -> dict:\n",
    "\tbase = 'artefacts/totreat'\n",
    "\tpath = f'{base}/{folder}/{file}'\n",
    "    \n",
    "\twith open(path, \"rb\") as img_file:\n",
    "\t\timg = Image(img_file)\n",
    "\t\tif img.has_exif:\n",
    "\t\t    return img"
   ],
   "id": "ccc48ca99bb29ca6",
   "outputs": [],
   "execution_count": 30
  },
  {
   "metadata": {
    "ExecuteTime": {
     "end_time": "2025-01-07T11:47:59.399806Z",
     "start_time": "2025-01-07T11:47:59.397728Z"
    }
   },
   "cell_type": "code",
   "source": [
    "def extract_datetime_from_infos(infos:dict) -> str:\n",
    "\tif infos.has_exif and hasattr(infos, \"datetime\"):\n",
    "\t\tdate_time = datetime.strptime(infos.datetime, \"%Y:%m:%d %H:%M:%S\")\n",
    "\t\treturn date_time"
   ],
   "id": "d9e9909e0ad0f933",
   "outputs": [],
   "execution_count": 35
  },
  {
   "metadata": {
    "ExecuteTime": {
     "end_time": "2025-01-07T12:29:52.367133Z",
     "start_time": "2025-01-07T12:29:52.364835Z"
    }
   },
   "cell_type": "code",
   "source": [
    "def is_image(file:str) -> bool:\n",
    "\tresult = False\n",
    "\n",
    "\tif file.endswith('.JPG'):\n",
    "\t\tresult = True\n",
    "\n",
    "\tif file.endswith('.jpg'):\n",
    "\t\tresult = True\n",
    "\n",
    "\treturn result"
   ],
   "id": "a9f9d0dbdb388840",
   "outputs": [],
   "execution_count": 62
  },
  {
   "metadata": {
    "ExecuteTime": {
     "end_time": "2025-01-07T12:21:58.659065Z",
     "start_time": "2025-01-07T12:21:58.656539Z"
    }
   },
   "cell_type": "code",
   "source": [
    "generated_uuid = uuid.uuid4()\n",
    "print(generated_uuid)"
   ],
   "id": "2e9999c08f78cbba",
   "outputs": [
    {
     "name": "stdout",
     "output_type": "stream",
     "text": [
      "5f1b80ef-f0fc-4eba-8a90-7d897734749d\n"
     ]
    }
   ],
   "execution_count": 47
  },
  {
   "metadata": {
    "ExecuteTime": {
     "end_time": "2025-01-07T13:14:26.440575Z",
     "start_time": "2025-01-07T13:14:26.433270Z"
    }
   },
   "cell_type": "code",
   "source": [
    "def generate_csv():\n",
    "\tbase = 'artefacts/totreat'\n",
    "\tfolders = list_folders()\n",
    "\tfor folder in folders:\n",
    "\t\tpath_folder = f'{base}/{folder}'\n",
    "\t\tlisting = []\n",
    "\t\tfiles = list_files(folder)\n",
    "\t\tfor file in files:\n",
    "\t\t\tpath_file = f'{base}/{folder}/{file}'\n",
    "\t\t\tif is_image(path_file) is True:\n",
    "\t\t\t\tinfos = extract_infos(folder, file)\n",
    "\t\t\t\tdatetime = extract_datetime_from_infos(infos)\n",
    "\t\t\t\tlisting.append([folder, file, datetime])\n",
    "\t\tdf = pd.DataFrame(listing, columns=['folder', 'file', 'datetime'])\n",
    "\t\tdf.to_csv(path_folder + '/listing.csv', index=False)"
   ],
   "id": "586730a00065a22a",
   "outputs": [],
   "execution_count": 91
  },
  {
   "metadata": {
    "ExecuteTime": {
     "end_time": "2025-01-07T13:16:09.693207Z",
     "start_time": "2025-01-07T13:16:09.685084Z"
    }
   },
   "cell_type": "code",
   "source": [
    "def generate_filename():\n",
    "\tbase = 'artefacts/totreat'\n",
    "\tfolders = list_folders()\n",
    "\tfor folder in folders:\n",
    "\t\tpath = f'{base}/{folder}/listing.csv'\n",
    "\t\tdf = pd.read_csv(path)\n",
    "\t\tdf[\"datetime\"] = pd.to_datetime(df[\"datetime\"])\n",
    "\t\tdf[\"date\"] = df[\"datetime\"].dt.date\n",
    "\t\tdf[\"uuid\"] = [f\"{uuid.uuid4()}{os.path.splitext(file)[1].lower()}\" for file in df[\"file\"]]\n",
    "\t\tdf.to_csv(path, index=False)"
   ],
   "id": "fbea14bf327b8839",
   "outputs": [],
   "execution_count": 95
  },
  {
   "metadata": {
    "ExecuteTime": {
     "end_time": "2025-01-07T13:09:53.888038Z",
     "start_time": "2025-01-07T13:09:53.883949Z"
    }
   },
   "cell_type": "code",
   "source": [
    "def list_move_files():\n",
    "\tbase = 'artefacts/totreat'\n",
    "\tbatch = uuid.uuid4()\n",
    "\tlisting = []\n",
    "\tfolders = list_folders()\n",
    "\tfor folder in folders:\n",
    "\t\tpath = f'{base}/{folder}/listing.csv'\n",
    "\t\tdf = pd.read_csv(path)\n",
    "\t\tfor row in df.itertuples(index=False):\n",
    "\t\t\tfilename = row.file\n",
    "\t\t\tnew_folder = row.date\n",
    "\t\t\tnew_filename = row.uuid\n",
    "\t\t\told_path = f'{base}/{folder}'\n",
    "\t\t\tnew_path = f'artefacts/photos/{batch}/{new_folder}'\n",
    "\t\t\tlisting.append([old_path, filename, new_path, new_filename])\n",
    "\treturn listing\n",
    "        "
   ],
   "id": "6ab13b02e40b66ed",
   "outputs": [],
   "execution_count": 84
  },
  {
   "metadata": {
    "ExecuteTime": {
     "end_time": "2025-01-07T13:11:39.124990Z",
     "start_time": "2025-01-07T13:11:39.122671Z"
    }
   },
   "cell_type": "code",
   "source": [
    "def move_files(listing):\n",
    "\tfor row in listing:\n",
    "\t\told_path, filename, new_path, new_filename = row\n",
    "\t\tif not os.path.exists(new_path):\n",
    "\t\t\tos.makedirs(new_path)\n",
    "\t\tshutil.copy(f'{old_path}/{filename}', f'{new_path}/{new_filename}')"
   ],
   "id": "97e36c2bab2002dc",
   "outputs": [],
   "execution_count": 89
  },
  {
   "metadata": {
    "ExecuteTime": {
     "end_time": "2025-01-07T13:19:13.183532Z",
     "start_time": "2025-01-07T13:19:10.486536Z"
    }
   },
   "cell_type": "code",
   "source": [
    "generate_csv()\n",
    "generate_filename()\n",
    "listing = list_move_files()\n",
    "move_files(listing)"
   ],
   "id": "ed4056ede9f0cbc",
   "outputs": [],
   "execution_count": 97
  }
 ],
 "metadata": {
  "kernelspec": {
   "display_name": "Python 3",
   "language": "python",
   "name": "python3"
  },
  "language_info": {
   "codemirror_mode": {
    "name": "ipython",
    "version": 2
   },
   "file_extension": ".py",
   "mimetype": "text/x-python",
   "name": "python",
   "nbconvert_exporter": "python",
   "pygments_lexer": "ipython2",
   "version": "2.7.6"
  }
 },
 "nbformat": 4,
 "nbformat_minor": 5
}
