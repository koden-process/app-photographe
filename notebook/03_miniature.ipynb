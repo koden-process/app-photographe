{
 "cells": [
  {
   "metadata": {},
   "cell_type": "markdown",
   "source": "# miniature",
   "id": "927e88604c706361"
  },
  {
   "metadata": {
    "ExecuteTime": {
     "end_time": "2025-01-09T13:48:39.215261Z",
     "start_time": "2025-01-09T13:48:39.056681Z"
    }
   },
   "cell_type": "code",
   "source": [
    "import pandas as pd\n",
    "\n",
    "from src.functions.file_handle import list_files"
   ],
   "id": "11a88e9d729c865c",
   "outputs": [],
   "execution_count": 1
  },
  {
   "cell_type": "code",
   "id": "initial_id",
   "metadata": {
    "collapsed": true,
    "ExecuteTime": {
     "end_time": "2025-01-09T13:50:31.964435Z",
     "start_time": "2025-01-09T13:50:31.957139Z"
    }
   },
   "source": [
    "batch = '1a532d5d-f99a-41b4-9ac8-240ce60da7d6'\n",
    "date = '2024-06-28'\n",
    "path = f'../artefacts/photos/{batch}/{date}'\n",
    "csv_path = f'{path}/merged.csv'\n",
    "\n",
    "df = pd.read_csv(csv_path)\n",
    "df.head()"
   ],
   "outputs": [
    {
     "data": {
      "text/plain": [
       "      folder          file             datetime        date  \\\n",
       "0  Gala_2024  IMG_1493.JPG  2024-06-28 18:06:44  2024-06-28   \n",
       "1  Gala_2024  IMG_1487.JPG  2024-06-28 18:06:31  2024-06-28   \n",
       "2  Gala_2024  IMG_1478.JPG  2024-06-28 18:06:24  2024-06-28   \n",
       "3  Gala_2024  IMG_1450.JPG  2024-06-28 18:05:53  2024-06-28   \n",
       "4  Gala_2024  IMG_1444.JPG  2024-06-28 18:05:46  2024-06-28   \n",
       "\n",
       "                                       uuid  \n",
       "0  a1077068-f1e4-4e31-92e0-b88fe4433b1f.jpg  \n",
       "1  ecc9afb9-6af7-43fa-bd1a-c971a3f7cc80.jpg  \n",
       "2  f651b646-92d6-46d6-ba65-78f029d0698f.jpg  \n",
       "3  ca1f44b1-5bc5-4e8c-9a7a-c70a52269797.jpg  \n",
       "4  5feb1e65-59c7-42b6-89a5-b6638a9e72cc.jpg  "
      ],
      "text/html": [
       "<div>\n",
       "<style scoped>\n",
       "    .dataframe tbody tr th:only-of-type {\n",
       "        vertical-align: middle;\n",
       "    }\n",
       "\n",
       "    .dataframe tbody tr th {\n",
       "        vertical-align: top;\n",
       "    }\n",
       "\n",
       "    .dataframe thead th {\n",
       "        text-align: right;\n",
       "    }\n",
       "</style>\n",
       "<table border=\"1\" class=\"dataframe\">\n",
       "  <thead>\n",
       "    <tr style=\"text-align: right;\">\n",
       "      <th></th>\n",
       "      <th>folder</th>\n",
       "      <th>file</th>\n",
       "      <th>datetime</th>\n",
       "      <th>date</th>\n",
       "      <th>uuid</th>\n",
       "    </tr>\n",
       "  </thead>\n",
       "  <tbody>\n",
       "    <tr>\n",
       "      <th>0</th>\n",
       "      <td>Gala_2024</td>\n",
       "      <td>IMG_1493.JPG</td>\n",
       "      <td>2024-06-28 18:06:44</td>\n",
       "      <td>2024-06-28</td>\n",
       "      <td>a1077068-f1e4-4e31-92e0-b88fe4433b1f.jpg</td>\n",
       "    </tr>\n",
       "    <tr>\n",
       "      <th>1</th>\n",
       "      <td>Gala_2024</td>\n",
       "      <td>IMG_1487.JPG</td>\n",
       "      <td>2024-06-28 18:06:31</td>\n",
       "      <td>2024-06-28</td>\n",
       "      <td>ecc9afb9-6af7-43fa-bd1a-c971a3f7cc80.jpg</td>\n",
       "    </tr>\n",
       "    <tr>\n",
       "      <th>2</th>\n",
       "      <td>Gala_2024</td>\n",
       "      <td>IMG_1478.JPG</td>\n",
       "      <td>2024-06-28 18:06:24</td>\n",
       "      <td>2024-06-28</td>\n",
       "      <td>f651b646-92d6-46d6-ba65-78f029d0698f.jpg</td>\n",
       "    </tr>\n",
       "    <tr>\n",
       "      <th>3</th>\n",
       "      <td>Gala_2024</td>\n",
       "      <td>IMG_1450.JPG</td>\n",
       "      <td>2024-06-28 18:05:53</td>\n",
       "      <td>2024-06-28</td>\n",
       "      <td>ca1f44b1-5bc5-4e8c-9a7a-c70a52269797.jpg</td>\n",
       "    </tr>\n",
       "    <tr>\n",
       "      <th>4</th>\n",
       "      <td>Gala_2024</td>\n",
       "      <td>IMG_1444.JPG</td>\n",
       "      <td>2024-06-28 18:05:46</td>\n",
       "      <td>2024-06-28</td>\n",
       "      <td>5feb1e65-59c7-42b6-89a5-b6638a9e72cc.jpg</td>\n",
       "    </tr>\n",
       "  </tbody>\n",
       "</table>\n",
       "</div>"
      ]
     },
     "execution_count": 3,
     "metadata": {},
     "output_type": "execute_result"
    }
   ],
   "execution_count": 3
  },
  {
   "metadata": {
    "ExecuteTime": {
     "end_time": "2025-01-09T13:55:46.475532Z",
     "start_time": "2025-01-09T13:55:34.440565Z"
    }
   },
   "cell_type": "code",
   "source": [
    "import os\n",
    "from PIL import Image\n",
    "\n",
    "batch = '1a532d5d-f99a-41b4-9ac8-240ce60da7d6'\n",
    "date = '2024-06-28'\n",
    "path = f'../artefacts/photos/{batch}/{date}'\n",
    "files = list_files(path, '.jpg')\n",
    "\n",
    "dest_path = f'../artefacts/miniatures/{batch}/{date}'\n",
    "if not os.path.exists(dest_path):\n",
    "    os.makedirs(dest_path)\n",
    "\n",
    "for file in files:\n",
    "    img = Image.open(f'{path}/{file}')\n",
    "    img.thumbnail((100, 100))\n",
    "    img.save(f'{dest_path}/{file}')"
   ],
   "id": "a89995c67cc4553",
   "outputs": [],
   "execution_count": 8
  }
 ],
 "metadata": {
  "kernelspec": {
   "display_name": "Python 3",
   "language": "python",
   "name": "python3"
  },
  "language_info": {
   "codemirror_mode": {
    "name": "ipython",
    "version": 2
   },
   "file_extension": ".py",
   "mimetype": "text/x-python",
   "name": "python",
   "nbconvert_exporter": "python",
   "pygments_lexer": "ipython2",
   "version": "2.7.6"
  }
 },
 "nbformat": 4,
 "nbformat_minor": 5
}
