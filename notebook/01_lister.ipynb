{
 "cells": [
  {
   "metadata": {},
   "cell_type": "markdown",
   "source": "# 01 : lister les photos",
   "id": "9580dc3897599e87"
  },
  {
   "metadata": {},
   "cell_type": "markdown",
   "source": [
    "Travail en batch. Un dossier arrive dans totreat, il est traiter de la manière suivante :\n",
    "- création d'un numéro de batch\n",
    "- séparation en dossier par date\n",
    "- un csv par dossier avec la liste des photos\n",
    "- un json avec les informations sur le batch dans le dossier"
   ],
   "id": "f4c5c499d774813a"
  },
  {
   "cell_type": "code",
   "id": "initial_id",
   "metadata": {
    "collapsed": true,
    "ExecuteTime": {
     "end_time": "2025-01-09T10:03:37.671067Z",
     "start_time": "2025-01-09T10:03:37.439331Z"
    }
   },
   "source": [
    "import os\n",
    "import shutil\n",
    "import uuid\n",
    "from datetime import datetime\n",
    "\n",
    "import pandas as pd\n",
    "from exif import Image"
   ],
   "outputs": [],
   "execution_count": 1
  },
  {
   "metadata": {
    "ExecuteTime": {
     "end_time": "2025-01-09T11:56:17.115055Z",
     "start_time": "2025-01-09T11:56:17.111294Z"
    }
   },
   "cell_type": "code",
   "source": [
    "def list_folders(path: str) -> list:\n",
    "    dossiers = os.listdir(path)\n",
    "    dossiers = [dossier for dossier in dossiers if not dossier.startswith('.')]\n",
    "    return dossiers"
   ],
   "id": "64c90f92dd20e917",
   "outputs": [],
   "execution_count": 28
  },
  {
   "metadata": {
    "ExecuteTime": {
     "end_time": "2025-01-09T11:57:31.075243Z",
     "start_time": "2025-01-09T11:57:31.065982Z"
    }
   },
   "cell_type": "code",
   "source": [
    "def list_files(folder: str, filetype: str = '') -> list:\n",
    "    files = os.listdir(f'{folder}')\n",
    "    files = [file for file in files if not file.startswith('.')]\n",
    "    if filetype is not None:\n",
    "        files = [file for file in files if file.endswith(filetype)]\n",
    "    return files"
   ],
   "id": "106171e37f847a03",
   "outputs": [],
   "execution_count": 33
  },
  {
   "metadata": {
    "ExecuteTime": {
     "end_time": "2025-01-07T11:44:54.676609Z",
     "start_time": "2025-01-07T11:44:54.674099Z"
    }
   },
   "cell_type": "code",
   "source": [
    "def extract_infos(folder: str, file: str) -> dict:\n",
    "    base = '../artefacts/totreat'\n",
    "    path = f'{base}/{folder}/{file}'\n",
    "\n",
    "    with open(path, \"rb\") as img_file:\n",
    "        img = Image(img_file)\n",
    "        if img.has_exif:\n",
    "            return img"
   ],
   "id": "ccc48ca99bb29ca6",
   "outputs": [],
   "execution_count": 30
  },
  {
   "metadata": {
    "ExecuteTime": {
     "end_time": "2025-01-07T11:47:59.399806Z",
     "start_time": "2025-01-07T11:47:59.397728Z"
    }
   },
   "cell_type": "code",
   "source": [
    "def extract_datetime_from_infos(infos: dict) -> str:\n",
    "    if infos.has_exif and hasattr(infos, \"datetime\"):\n",
    "        date_time = datetime.strptime(infos.datetime, \"%Y:%m:%d %H:%M:%S\")\n",
    "        return date_time"
   ],
   "id": "d9e9909e0ad0f933",
   "outputs": [],
   "execution_count": 35
  },
  {
   "metadata": {
    "ExecuteTime": {
     "end_time": "2025-01-09T11:57:45.982027Z",
     "start_time": "2025-01-09T11:57:45.980050Z"
    }
   },
   "cell_type": "code",
   "source": [
    "def is_image(file: str) -> bool:\n",
    "    result = False\n",
    "\n",
    "    if file.endswith('.JPG'):\n",
    "        result = True\n",
    "\n",
    "    if file.endswith('.jpg'):\n",
    "        result = True\n",
    "\n",
    "    return result"
   ],
   "id": "a9f9d0dbdb388840",
   "outputs": [],
   "execution_count": 34
  },
  {
   "metadata": {
    "ExecuteTime": {
     "end_time": "2025-01-07T12:21:58.659065Z",
     "start_time": "2025-01-07T12:21:58.656539Z"
    }
   },
   "cell_type": "code",
   "source": [
    "generated_uuid = uuid.uuid4()\n",
    "print(generated_uuid)"
   ],
   "id": "2e9999c08f78cbba",
   "outputs": [
    {
     "name": "stdout",
     "output_type": "stream",
     "text": [
      "5f1b80ef-f0fc-4eba-8a90-7d897734749d\n"
     ]
    }
   ],
   "execution_count": 47
  },
  {
   "metadata": {
    "ExecuteTime": {
     "end_time": "2025-01-07T13:14:26.440575Z",
     "start_time": "2025-01-07T13:14:26.433270Z"
    }
   },
   "cell_type": "code",
   "source": [
    "def generate_csv():\n",
    "    base = '../artefacts/totreat'\n",
    "    folders = list_folders(base)\n",
    "    for folder in folders:\n",
    "        path_folder = f'{base}/{folder}'\n",
    "        listing = []\n",
    "        files = list_files(folder)\n",
    "        for file in files:\n",
    "            path_file = f'{base}/{folder}/{file}'\n",
    "            if is_image(path_file) is True:\n",
    "                infos = extract_infos(folder, file)\n",
    "                datetime = extract_datetime_from_infos(infos)\n",
    "                listing.append([folder, file, datetime])\n",
    "        df = pd.DataFrame(listing, columns = ['folder', 'file', 'datetime'])\n",
    "        df.to_csv(path_folder + '/listing.csv', index = False)"
   ],
   "id": "586730a00065a22a",
   "outputs": [],
   "execution_count": 91
  },
  {
   "metadata": {
    "ExecuteTime": {
     "end_time": "2025-01-07T13:16:09.693207Z",
     "start_time": "2025-01-07T13:16:09.685084Z"
    }
   },
   "cell_type": "code",
   "source": [
    "def generate_filename():\n",
    "    base = '../artefacts/totreat'\n",
    "    folders = list_folders(base)\n",
    "    for folder in folders:\n",
    "        path = f'{base}/{folder}/listing.csv'\n",
    "        df = pd.read_csv(path)\n",
    "        df[\"datetime\"] = pd.to_datetime(df[\"datetime\"])\n",
    "        df[\"date\"] = df[\"datetime\"].dt.date\n",
    "        df[\"uuid\"] = [f\"{uuid.uuid4()}{os.path.splitext(file)[1].lower()}\" for file in df[\"file\"]]\n",
    "        df.to_csv(path, index = False)"
   ],
   "id": "fbea14bf327b8839",
   "outputs": [],
   "execution_count": 95
  },
  {
   "metadata": {
    "ExecuteTime": {
     "end_time": "2025-01-07T13:09:53.888038Z",
     "start_time": "2025-01-07T13:09:53.883949Z"
    }
   },
   "cell_type": "code",
   "source": [
    "def list_move_files(batch):\n",
    "    base = '../artefacts/totreat'\n",
    "    listing = []\n",
    "    folders = list_folders(base)\n",
    "    for folder in folders:\n",
    "        path = f'{base}/{folder}/listing.csv'\n",
    "        df = pd.read_csv(path)\n",
    "        for row in df.itertuples(index = False):\n",
    "            filename = row.file\n",
    "            new_folder = row.date\n",
    "            new_filename = row.uuid\n",
    "            old_path = f'{base}/{folder}'\n",
    "            new_path = f'artefacts/photos/{batch}/{new_folder}'\n",
    "            listing.append([old_path, filename, new_path, new_filename])\n",
    "    return listing\n"
   ],
   "id": "6ab13b02e40b66ed",
   "outputs": [],
   "execution_count": 84
  },
  {
   "metadata": {
    "ExecuteTime": {
     "end_time": "2025-01-07T13:11:39.124990Z",
     "start_time": "2025-01-07T13:11:39.122671Z"
    }
   },
   "cell_type": "code",
   "source": [
    "def move_files(listing):\n",
    "    for row in listing:\n",
    "        old_path, filename, new_path, new_filename = row\n",
    "        if not os.path.exists(new_path):\n",
    "            os.makedirs(new_path)\n",
    "        shutil.copy(f'{old_path}/{filename}', f'{new_path}/{new_filename}')"
   ],
   "id": "97e36c2bab2002dc",
   "outputs": [],
   "execution_count": 89
  },
  {
   "metadata": {
    "ExecuteTime": {
     "end_time": "2025-01-09T11:28:07.937468Z",
     "start_time": "2025-01-09T11:28:07.934175Z"
    }
   },
   "cell_type": "code",
   "source": [
    "def split_csv(batch):\n",
    "    base = '../artefacts'\n",
    "    folders = list_folders(base)\n",
    "    for folder in folders:\n",
    "        df = pd.read_csv(f'{base}/totreat/{folder}/listing.csv')\n",
    "        if 'date' in df.columns:\n",
    "            dates = df['date'].unique()\n",
    "\n",
    "            for date in dates:\n",
    "                file_name = uuid.uuid4()\n",
    "                output_file = f'{base}/photos/{batch}/{date}/{file_name}.csv'\n",
    "                df_filtered = df[df['date'] == date]\n",
    "                df_filtered.to_csv(output_file, index = False)"
   ],
   "id": "32bc0bbf4fc99fde",
   "outputs": [],
   "execution_count": 18
  },
  {
   "metadata": {
    "ExecuteTime": {
     "end_time": "2025-01-09T11:59:39.623118Z",
     "start_time": "2025-01-09T11:59:39.620255Z"
    }
   },
   "cell_type": "code",
   "source": [
    "def merge_csv(batch):\n",
    "    base = f'../artefacts/photos/{batch}'\n",
    "    folders = list_folders(base)\n",
    "    for folder in folders:\n",
    "        path = f'{base}/{folder}'\n",
    "        files = list_files(path, '.csv')\n",
    "        df = pd.concat([pd.read_csv(f'{path}/{file}') for file in files])\n",
    "        df.to_csv(f'{path}/merged.csv', index = False)"
   ],
   "id": "76bd07d3f365047b",
   "outputs": [],
   "execution_count": 37
  },
  {
   "metadata": {
    "ExecuteTime": {
     "end_time": "2025-01-07T13:19:13.183532Z",
     "start_time": "2025-01-07T13:19:10.486536Z"
    }
   },
   "cell_type": "code",
   "source": [
    "generate_csv()\n",
    "generate_filename()\n",
    "batch = uuid.uuid4()\n",
    "listing = list_move_files(batch)\n",
    "move_files(listing)\n",
    "split_csv(batch)\n",
    "merge_csv(batch)"
   ],
   "id": "ed4056ede9f0cbc",
   "outputs": [],
   "execution_count": 97
  }
 ],
 "metadata": {
  "kernelspec": {
   "display_name": "Python 3",
   "language": "python",
   "name": "python3"
  },
  "language_info": {
   "codemirror_mode": {
    "name": "ipython",
    "version": 2
   },
   "file_extension": ".py",
   "mimetype": "text/x-python",
   "name": "python",
   "nbconvert_exporter": "python",
   "pygments_lexer": "ipython2",
   "version": "2.7.6"
  }
 },
 "nbformat": 4,
 "nbformat_minor": 5
}
